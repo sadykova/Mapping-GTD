{
 "cells": [
  {
   "cell_type": "code",
   "execution_count": null,
   "metadata": {},
   "outputs": [],
   "source": [
    "#import libraries\n",
    "import pandas as pd\n",
    "import numpy as np\n",
    "from mpl_toolkits.basemap import Basemap\n",
    "import matplotlib.pyplot as plt\n",
    "import numpy as np\n",
    "import uuid\n",
    "# changing WD\n",
    "import os\n",
    "os.getcwd() #getting current directory\n",
    "path =\"PATH_TO_WD\" #setting the path to the new directory\n",
    "os.chdir(path) # changing the directory\n",
    "os.getcwd() # getting the changed directory"
   ]
  },
  {
   "cell_type": "code",
   "execution_count": null,
   "metadata": {},
   "outputs": [],
   "source": [
    "gtd=pd.read_excel(\"DATA_GOES_HERE\")\n",
    "gtd.head(10)"
   ]
  },
  {
   "cell_type": "code",
   "execution_count": null,
   "metadata": {},
   "outputs": [],
   "source": [
    "#this is the loop to create multiple jpg's for each year in the dataset\n",
    "for i in range(1970, 1981): #set up to create plots for the years from 1970 to 1980 \n",
    "    split=gtd[gtd[\"iyear\"]==i] #splitting the dataset according to the year\n",
    "    lons=list(split[\"longitude\"]) #getting longitudes\n",
    "    lats=list(split[\"latitude\"]) #getting latitudes\n",
    "    fig = plt.figure(num=None, figsize=(20, 15) ) #set up the size of the image\n",
    "    gtdinc =Basemap(projection='moll',lon_0=0,resolution='c')    \n",
    "    gtdinc.drawcoastlines()\n",
    "    gtdinc.drawcountries()\n",
    "    gtdinc.bluemarble() #creates that cool globe format\n",
    "    gtdinc.drawmapboundary()\n",
    "    gtdinc.drawmeridians(np.arange(0, 360, 30))\n",
    "    gtdinc.drawparallels(np.arange(-90, 90, 30))\n",
    "    x,y = gtdinc(lons, lats)\n",
    "    gtdinc.plot(x, y, 'ro', markersize=6)\n",
    "    title_string = \"Terrorism Incidents Across The Globe\\n\" #title of your plot goes here\n",
    "    title_string += \"(1970-1980)\" \n",
    "    plt.title(title_string, fontsize=30)\n",
    "    plt.savefig('%s.jpg' % (str(i))) #year is given as a name to the image\n",
    "    \n"
   ]
  }
 ],
 "metadata": {
  "kernelspec": {
   "display_name": "Python 3",
   "language": "python",
   "name": "python3"
  },
  "language_info": {
   "codemirror_mode": {
    "name": "ipython",
    "version": 3
   },
   "file_extension": ".py",
   "mimetype": "text/x-python",
   "name": "python",
   "nbconvert_exporter": "python",
   "pygments_lexer": "ipython3",
   "version": "3.7.4"
  }
 },
 "nbformat": 4,
 "nbformat_minor": 4
}
